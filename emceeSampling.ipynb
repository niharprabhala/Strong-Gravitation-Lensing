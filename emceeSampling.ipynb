{
 "cells": [
  {
   "cell_type": "code",
   "execution_count": 5,
   "metadata": {},
   "outputs": [],
   "source": [
    "import numpy as np\n",
    "import emcee\n",
    "import corner\n",
    "import matplotlib.pyplot as plt\n",
    "%matplotlib inline"
   ]
  },
  {
   "cell_type": "code",
   "execution_count": 1,
   "metadata": {},
   "outputs": [],
   "source": [
    "ndim = 7\n",
    "nwalk = 16\n",
    "nburn = 200\n",
    "nmain = 1000\n",
    "\n",
    "# might be better to use this segment if we have a better idea of what the low and high values might be for each parameter\n",
    "# generate random starting points\n",
    "# p0 = np.zeros((nwalk,ndim))\n",
    "# for iwalk in range(nwalk):\n",
    "#     p0[iwalk,0] = np.random.uniform(low=,high=,)\n",
    "#     p0[iwalk,1] = np.random.uniform(low=,high=)\n",
    "#     p0[iwalk,2] = np.random.uniform(low=,high=)\n",
    "#     p0[iwalk,3] = np.random.uniform(low=,high=)\n",
    "#     p0[iwalk,4] = np.random.uniform(low=,high=)\n",
    "#     p0[iwalk,5] = np.random.uniform(low=,high=)\n",
    "#     p0[iwalk,6] = np.random.uniform(low=,high=)\n",
    "    \n",
    "# pstart = np.zeros(ndim)\n",
    "p0 = np.array(np.random.rand(ndim) for i in range(nwalk)) \n",
    "# p0 = np.array([ pstart+1.0e-4*np.random.normal(size=ndim) for iwalk in range(nwalk) ])\n",
    "    \n",
    "sampler = emcee.EnsembleSampler(nwalk,ndim,lnprob) \n",
    "\n",
    "# burn-in run\n",
    "pos,prob,state = sampler.run_mcmc(p0,nburn)\n",
    "\n",
    "sampler.reset()\n",
    "\n",
    "# main run\n",
    "res = sampler.run_mcmc(pos,nmain)\n",
    "samples = sampler.chain.reshape((-1,ndim))"
   ]
  },
  {
   "cell_type": "code",
   "execution_count": null,
   "metadata": {},
   "outputs": [],
   "source": [
    "f = corner.corner(samples,show_titles=True,labels=('p0','p1','p2','p3','p4','p5','p6'))\n",
    "f.show()"
   ]
  }
 ],
 "metadata": {
  "kernelspec": {
   "display_name": "Python 3",
   "language": "python",
   "name": "python3"
  },
  "language_info": {
   "codemirror_mode": {
    "name": "ipython",
    "version": 3
   },
   "file_extension": ".py",
   "mimetype": "text/x-python",
   "name": "python",
   "nbconvert_exporter": "python",
   "pygments_lexer": "ipython3",
   "version": "3.7.6"
  }
 },
 "nbformat": 4,
 "nbformat_minor": 4
}
