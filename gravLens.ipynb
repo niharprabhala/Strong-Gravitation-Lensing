{
 "cells": [
  {
   "cell_type": "code",
   "execution_count": 135,
   "metadata": {},
   "outputs": [],
   "source": [
    "from astropy import units as u\n",
    "from astropy.coordinates import SkyCoord\n",
    "import numpy as np\n",
    "\n",
    "#This is an example of the ra and dec data that the converstion will call to\n",
    "\n",
    "c = SkyCoord(ra=10.625*u.degree, dec=41.2*u.degree, frame='icrs')\n",
    "\n",
    "#This is cartesian conversion\n",
    "\n",
    "def x (ra,dec):\n",
    "    x = (np.cos(ra)*np.sin(dec))\n",
    "    return x\n",
    "\n",
    "\n",
    "def y (ra,dec):\n",
    "    y = (np.cos(dec)*np.sin(ra))\n",
    "    return y\n",
    "\n",
    "#Example \n",
    "\n",
    "#x(c.ra,c.dec)\n",
    "#y(c.ra,c.dec)\n",
    "\n",
    "def cart2pol(x, y):\n",
    "    rho = np.sqrt(x**2 + y**2)\n",
    "    phi = np.arctan2(y, x)\n",
    "    return(rho, phi)\n",
    "\n",
    "def pol2cart(rho, phi):\n",
    "    x = rho * np.cos(phi)\n",
    "    y = rho * np.sin(phi)\n",
    "    return(x, y)"
   ]
  },
  {
   "cell_type": "code",
   "execution_count": 136,
   "metadata": {},
   "outputs": [],
   "source": [
    "#Here we make a string manually to import the data, \n",
    "#For each lens there should be 11 numbers \n",
    "#First we have the uncertainty, then we have the dRA and dDec for the lensing galaxy\n",
    "#Then we have the dRA and dDec for each image (4 images each)\n",
    "#If we have 3 lenses, we should have 33 numbers in our chain, and so on...\n",
    "\n",
    "\n",
    "a= \"\"\"0.003 0.358 0.567 1.066 0.323 0.0 0.0 0.721 1.159 -0.157 1.021 0.008 1.152 0.636 2.42 0.792 1.458 -0.456 0.0 0.0 0.768 1.662\"\"\"\n",
    "\n",
    "#Note that for right now I just include two lenses, we will include all 8 lenses and \n",
    "#all we have to do is change one variable (\"numLenses\" in the cell below"
   ]
  },
  {
   "cell_type": "code",
   "execution_count": 137,
   "metadata": {},
   "outputs": [
    {
     "name": "stdout",
     "output_type": "stream",
     "text": [
      "[[[ 0.65719787  0.58345686  0.59912387  0.58447406]\n",
      "  [ 1.85381203 -2.61037531  0.5141671  -0.85921828]\n",
      "  [ 0.00299998  0.00299998  0.00299998  0.00299998]]\n",
      "\n",
      " [[ 0.94405297  0.85762441  0.77363047  0.81637191]\n",
      "  [ 1.52170175  2.97904967 -1.88833424 -0.24012243]\n",
      "  [ 0.00799966  0.00799966  0.00799966  0.00799966]]]\n"
     ]
    }
   ],
   "source": [
    "a= a.split(\" \")\n",
    "numLenses = 2\n",
    "numImages = 4\n",
    "oldData = np.zeros((numLenses,3,numImages))\n",
    "newData = np.zeros((numLenses,3,numImages))\n",
    "\n",
    "i=0\n",
    "j=0\n",
    "k=0\n",
    "count=0;\n",
    "while (i< numLenses):\n",
    "    uncert= a[count]\n",
    "    count=count+1;\n",
    "    xChange=a[count]\n",
    "    count=count+1\n",
    "    yChange=a[count]\n",
    "    count=count+1\n",
    "    while (j< numImages):\n",
    "        oldData[i][0][j] = float(a[count]) - float(xChange)\n",
    "        count=count+1;\n",
    "        oldData[i][1][j] = float(a[count]) - float(yChange)\n",
    "        count=count+1;\n",
    "        oldData[i][2][j]= float(uncert);\n",
    "        j=j+1;\n",
    "    i=i+1;\n",
    "    j=0\n",
    "\n",
    "    \n",
    "i=0\n",
    "j=0\n",
    "k=0\n",
    "\n",
    "while (i<numLenses):\n",
    "    while (j<numImages):\n",
    "        newData[i][0][j] = x(oldData[i][0][j], oldData[i][1][j])\n",
    "        newData[i][1][j] = y(oldData[i][0][j], oldData[i][1][j])\n",
    "        newData[i][2][j] = y(oldData[i][2][j], oldData[i][2][j])\n",
    "        newData[i][0][j],newData[i][1][j] = cart2pol(newData[i][0][j], newData[i][1][j])\n",
    "        #newData[i][0][j],newData[i][1][j] = pol2cart(newData[i][0][j], newData[i][1][j])\n",
    "        j=j+1;\n",
    "    i=i+1;\n",
    "    j=0\n",
    "print(newData)"
   ]
  },
  {
   "cell_type": "code",
   "execution_count": null,
   "metadata": {},
   "outputs": [],
   "source": []
  }
 ],
 "metadata": {
  "kernelspec": {
   "display_name": "Python 3",
   "language": "python",
   "name": "python3"
  },
  "language_info": {
   "codemirror_mode": {
    "name": "ipython",
    "version": 3
   },
   "file_extension": ".py",
   "mimetype": "text/x-python",
   "name": "python",
   "nbconvert_exporter": "python",
   "pygments_lexer": "ipython3",
   "version": "3.6.1"
  }
 },
 "nbformat": 4,
 "nbformat_minor": 4
}
