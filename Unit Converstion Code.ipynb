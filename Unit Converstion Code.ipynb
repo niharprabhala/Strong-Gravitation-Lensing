{
 "cells": [
  {
   "cell_type": "markdown",
   "metadata": {},
   "source": [
    "### Unit conversion\n",
    "\n",
    "Distance from the observer (the sphere's origin) is set to 1 to remove the distance component"
   ]
  },
  {
   "cell_type": "code",
   "execution_count": 28,
   "metadata": {},
   "outputs": [],
   "source": [
    "from astropy import units as u\n",
    "from astropy.coordinates import SkyCoord\n",
    "import numpy as np"
   ]
  },
  {
   "cell_type": "code",
   "execution_count": 29,
   "metadata": {},
   "outputs": [],
   "source": [
    "#This is an example of the ra and dec data that the converstion will call to\n",
    "\n",
    "c = SkyCoord(ra=10.625*u.degree, dec=41.2*u.degree, frame='icrs')"
   ]
  },
  {
   "cell_type": "code",
   "execution_count": 30,
   "metadata": {},
   "outputs": [
    {
     "data": {
      "text/latex": [
       "$0.64739622 \\; \\mathrm{}$"
      ],
      "text/plain": [
       "<Quantity 0.64739622>"
      ]
     },
     "execution_count": 30,
     "metadata": {},
     "output_type": "execute_result"
    }
   ],
   "source": [
    "#This is cartesian conversion\n",
    "\n",
    "def x (ra,dec):\n",
    "    x = (np.cos(ra)*np.sin(dec))\n",
    "    return x\n",
    "\n",
    "\n",
    "def y (ra,dec):\n",
    "    y = (np.cos(dec)*np.sin(ra))\n",
    "    return y\n",
    "\n",
    "#Example \n",
    "\n",
    "x(c.ra,c.dec)"
   ]
  },
  {
   "cell_type": "code",
   "execution_count": null,
   "metadata": {},
   "outputs": [],
   "source": []
  }
 ],
 "metadata": {
  "kernelspec": {
   "display_name": "Python 3",
   "language": "python",
   "name": "python3"
  },
  "language_info": {
   "codemirror_mode": {
    "name": "ipython",
    "version": 3
   },
   "file_extension": ".py",
   "mimetype": "text/x-python",
   "name": "python",
   "nbconvert_exporter": "python",
   "pygments_lexer": "ipython3",
   "version": "3.8.3"
  }
 },
 "nbformat": 4,
 "nbformat_minor": 4
}
