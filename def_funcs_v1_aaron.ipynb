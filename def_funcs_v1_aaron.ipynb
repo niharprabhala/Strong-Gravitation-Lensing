{
 "cells": [
  {
   "cell_type": "code",
   "execution_count": 1,
   "metadata": {
    "ExecuteTime": {
     "end_time": "2020-10-08T14:05:23.392524Z",
     "start_time": "2020-10-08T14:05:21.887014Z"
    }
   },
   "outputs": [],
   "source": [
    "import numpy as np\n",
    "import scipy as sp\n",
    "import matplotlib.pyplot as plt"
   ]
  },
  {
   "cell_type": "markdown",
   "metadata": {},
   "source": [
    "Using polar coordinates centered on the lens galaxy, the combined lens potential can be written as\n",
    "\n",
    "$$\\phi (r, \\theta) = b r f(\\theta) + \\frac{r^2}{2} (\\gamma_c \\cos{2 \\theta} + \\gamma_s \\sin{2 \\theta} )$$\n",
    "\n",
    "where\n",
    "\n",
    "$$f(\\theta) = \\left[ 1 - \\epsilon \\cos{2 ( \\theta - \\theta_0)} \\right]^{1/2}$$\n",
    "\n",
    "The deflection vector $\\nabla \\phi$ has cartesian components \n",
    "\n",
    "\\begin{gather}\n",
    "\\nabla_x \\phi = \\frac{b}{f(\\theta)} [\\cos \\theta - \\epsilon \\cos{(\\theta - 2 \\theta_0)}] + \\gamma_c r \\cos \\theta + \\gamma_s r \\sin \\theta \\\\\n",
    "\\nabla_y \\phi = \\frac{b}{f(\\theta)} [\\sin \\theta - \\epsilon \\sin{(\\theta - 2 \\theta_0)}] + \\gamma_s r \\cos \\theta - \\gamma_c r \\sin \\theta\n",
    "\\end{gather}"
   ]
  },
  {
   "cell_type": "markdown",
   "metadata": {},
   "source": [
    "The gravitational lens equation has the form\n",
    "\n",
    "$$\\vec{u} = \\vec{x} - \\nabla \\phi (\\vec{x})$$\n",
    "\n",
    "which is really a set of two equations.\n",
    "\\begin{gather}\n",
    "u = x - \\nabla_x \\phi (\\vec{x}) \\\\\n",
    "v = y - \\nabla_y \\phi (\\vec{x})\n",
    "\\end{gather}\n",
    "We need a penalty function $\\chi^2$ that will determine the parameters $b, \\epsilon, \\gamma_c, \\gamma_s, \\theta_0$ in the lens potential $\\phi$ and the parameters $u,v$, the position of the source. Let $\\vec{x}_i, \\sigma_i, \\, i=0,1,2,3$ be the positions and uncertainties of the four images. Based on Keeton (2010, Gen.Rel.Grav., 42, 2151) we will define our $\\chi^2$ function to be in the source plane. This eliminates the need for solving the lens equation (which is computationally expensive), and is a fine apprixmation given how small our uncertainties are. Let $\\vec{\\mu}_i = (\\mu_i, \\nu_i)$ be the position of the source as calculated from the lens equation using the $i$th image position. Then we can define our penalty function to be\n",
    "$$ \\chi^2 = \\sum_{i=0}^3 \\frac{1}{\\sigma_i^2} \\left( \\vec{u} - \\vec{\\mu}_i \\right)^2$$"
   ]
  },
  {
   "cell_type": "code",
   "execution_count": 7,
   "metadata": {
    "ExecuteTime": {
     "end_time": "2020-10-08T16:37:36.872138Z",
     "start_time": "2020-10-08T16:37:36.852165Z"
    },
    "code_folding": [
     0,
     5
    ]
   },
   "outputs": [],
   "source": [
    "def poltocart(r, theta):\n",
    "    x = r * np.cos(theta)\n",
    "    y = r * np.sin(theta)\n",
    "    return (x, y)\n",
    "\n",
    "def carttopol(x, y):\n",
    "    r = np.sqrt(x**2 + y**2)\n",
    "    theta = np.arctan(y, x)\n",
    "    return (r, theta)\n",
    "\n",
    "\n",
    "def f(theta, eps, theta0): # defining f(θ)\n",
    "    return (1 - eps * np.cos(2 * (theta - theta0)))**(1/2)\n",
    "\n",
    "\n",
    "def dxphi(rtheta, b, eps, gc, gs, theta0): # deflection vector x component\n",
    "    r, theta = rtheta\n",
    "    return b / f(theta, eps, theta0) * (np.cos(theta) - eps * np.cos( theta - 2 * theta0)) \\\n",
    "        + gc * r * np.cos(theta) + gs * r * np.sin(theta)\n",
    "\n",
    "\n",
    "def dyphi(rtheta, b , eps, gc, gs, theta0): #deflection vector y component\n",
    "    r, theta = rtheta\n",
    "    return b / f(theta, eps, theta0) * (np.sin(theta) - eps * np.sin( theta - 2 * theta0)) \\\n",
    "        + gs * r * np.cos(theta) - gc * r * np.sin(theta)\n",
    "\n",
    "\n",
    "def calcsource(params, rtheta): # calculates the source given the ϕ-params and an image position\n",
    "    b, eps, gc, gs, theta0, _, _ = params\n",
    "    r, theta = rtheta\n",
    "    x, y = poltocart(r, theta)\n",
    "    mu = x - dxphi(rtheta, b, eps, gc, gs, theta0)\n",
    "    nu = y - dyphi(rtheta, b, eps, gc, gs, theta0)\n",
    "    return (mu, nu)\n",
    "\n",
    "    \n",
    "def lnprob(params, rthetasigma): # our χ^2 function\n",
    "    b, eps, gc, gs, theta0, u, v = params\n",
    "    r, theta, sigma = rthetasigma\n",
    "    chi2 = 0\n",
    "    for i in range(3):\n",
    "        mu, nu = calcsource(params, rtheta[i])\n",
    "        chi2 += ((u - mu)**2 + (v - nu)**2) / sigma[i]**2\n",
    "    return chi2"
   ]
  }
 ],
 "metadata": {
  "kernelspec": {
   "display_name": "Python 3",
   "language": "python",
   "name": "python3"
  },
  "language_info": {
   "codemirror_mode": {
    "name": "ipython",
    "version": 3
   },
   "file_extension": ".py",
   "mimetype": "text/x-python",
   "name": "python",
   "nbconvert_exporter": "python",
   "pygments_lexer": "ipython3",
   "version": "3.7.9"
  }
 },
 "nbformat": 4,
 "nbformat_minor": 4
}
