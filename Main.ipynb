{
 "cells": [
  {
   "cell_type": "code",
   "execution_count": null,
   "metadata": {},
   "outputs": [],
   "source": [
    "import numpy as np\n",
    "from astropy import units as u\n",
    "from astropy.coordinates import SkyCoord\n",
    "import scipy as sp\n",
    "import matplotlib.pyplot as plt\n",
    "%matplotlib inline"
   ]
  },
  {
   "cell_type": "code",
   "execution_count": null,
   "metadata": {},
   "outputs": [],
   "source": [
    "c = SkyCoord(ra=10.625*u.degree, dec=41.2*u.degree, frame='icrs')\n",
    "\n",
    "def x (ra,dec):\n",
    "    x = (np.cos(ra)*np.sin(dec))\n",
    "    return x\n",
    "\n",
    "\n",
    "def y (ra,dec):\n",
    "    y = (np.cos(dec)*np.sin(ra))\n",
    "    return y"
   ]
  },
  {
   "cell_type": "code",
   "execution_count": null,
   "metadata": {},
   "outputs": [],
   "source": [
    "def cart2pol(x, y):\n",
    "    rho = np.sqrt(x**2 + y**2)\n",
    "    phi = np.arctan2(y, x)\n",
    "    return(rho, phi)\n",
    "\n",
    "def pol2cart(rho, phi):\n",
    "    x = rho * np.cos(phi)\n",
    "    y = rho * np.sin(phi)\n",
    "    return(x, y)"
   ]
  },
  {
   "cell_type": "code",
   "execution_count": null,
   "metadata": {},
   "outputs": [],
   "source": [
    "a= \"\"\"0.003 0.358 0.567 1.066 0.323 0.0 0.0 0.721 1.159 -0.157 1.021 0.008 1.152 0.636 2.42 0.792 1.458 -0.456 0.0 0.0 0.768 1.662\"\"\""
   ]
  },
  {
   "cell_type": "code",
   "execution_count": null,
   "metadata": {},
   "outputs": [],
   "source": [
    "a= a.split(\" \")\n",
    "numLenses = 2\n",
    "numImages = 4\n",
    "oldData = np.zeros((numLenses,3,numImages))\n",
    "newData = np.zeros((numLenses,3,numImages))\n",
    "\n",
    "i=0\n",
    "j=0\n",
    "k=0\n",
    "count=0;\n",
    "while (i< numLenses):\n",
    "    uncert= a[count]\n",
    "    count=count+1;\n",
    "    xChange=a[count]\n",
    "    count=count+1\n",
    "    yChange=a[count]\n",
    "    count=count+1\n",
    "    while (j< numImages):\n",
    "        oldData[i][0][j] = float(a[count]) - float(xChange)\n",
    "        count=count+1;\n",
    "        oldData[i][1][j] = float(a[count]) - float(yChange)\n",
    "        count=count+1;\n",
    "        oldData[i][2][j]= float(uncert);\n",
    "        j=j+1;\n",
    "    i=i+1;\n",
    "    j=0\n",
    "\n",
    "    \n",
    "i=0\n",
    "j=0\n",
    "k=0\n",
    "\n",
    "while (i<numLenses):\n",
    "    while (j<numImages):\n",
    "        newData[i][0][j] = x(oldData[i][0][j], oldData[i][1][j])\n",
    "        newData[i][1][j] = y(oldData[i][0][j], oldData[i][1][j])\n",
    "        newData[i][2][j] = y(oldData[i][2][j], oldData[i][2][j])\n",
    "        newData[i][0][j],newData[i][1][j] = cart2pol(newData[i][0][j], newData[i][1][j])\n",
    "        #newData[i][0][j],newData[i][1][j] = pol2cart(newData[i][0][j], newData[i][1][j])\n",
    "        j=j+1;\n",
    "    i=i+1;\n",
    "    j=0"
   ]
  },
  {
   "cell_type": "markdown",
   "metadata": {},
   "source": [
    "Using polar coordinates centered on the lens galaxy, the combined lens potential can be written as\n",
    "\n",
    "$$\\phi (r, \\theta) = b r f(\\theta) + \\frac{r^2}{2} (\\gamma_c \\cos{2 \\theta} + \\gamma_s \\sin{2 \\theta} )$$\n",
    "\n",
    "where\n",
    "\n",
    "$$f(\\theta) = \\left[ 1 - \\epsilon \\cos{2 ( \\theta - \\theta_0)} \\right]^{1/2}$$\n",
    "\n",
    "The deflection vector $\\nabla \\phi$ has cartesian components \n",
    "\n",
    "\\begin{gather}\n",
    "\\nabla_x \\phi = \\frac{b}{f(\\theta)} [\\cos \\theta - \\epsilon \\cos{(\\theta - 2 \\theta_0)}] + \\gamma_c r \\cos \\theta + \\gamma_s r \\sin \\theta \\\\\n",
    "\\nabla_y \\phi = \\frac{b}{f(\\theta)} [\\sin \\theta - \\epsilon \\sin{(\\theta - 2 \\theta_0)}] + \\gamma_s r \\cos \\theta - \\gamma_c r \\sin \\theta\n",
    "\\end{gather}"
   ]
  },
  {
   "cell_type": "markdown",
   "metadata": {},
   "source": [
    "The gravitational lens equation has the form\n",
    "\n",
    "$$\\vec{u} = \\vec{x} - \\nabla \\phi (\\vec{x})$$\n",
    "\n",
    "which is really a set of two equations.\n",
    "\\begin{gather}\n",
    "u = x - \\nabla_x \\phi (\\vec{x}) \\\\\n",
    "v = y - \\nabla_y \\phi (\\vec{x})\n",
    "\\end{gather}\n",
    "We need a penalty function $\\chi^2$ that will determine the parameters $b, \\epsilon, \\gamma_c, \\gamma_s, \\theta_0$ in the lens potential $\\phi$ and the parameters $u,v$, the position of the source. Let $\\vec{x}_i, \\sigma_i, \\, i=0,1,2,3$ be the positions and uncertainties of the four images. Based on Keeton (2010, Gen.Rel.Grav., 42, 2151) we will define our $\\chi^2$ function to be in the source plane. This eliminates the need for solving the lens equation (which is computationally expensive), and is a fine apprixmation given how small our uncertainties are. Let $\\vec{\\mu}_i = (\\mu_i, \\nu_i)$ be the position of the source as calculated from the lens equation using the $i$th image position. Then we can define our penalty function to be\n",
    "$$ \\chi^2 = \\sum_{i=0}^3 \\frac{1}{\\sigma_i^2} \\left( \\vec{u} - \\vec{\\mu}_i \\right)^2$$"
   ]
  },
  {
   "cell_type": "code",
   "execution_count": null,
   "metadata": {},
   "outputs": [],
   "source": [
    "def f(theta, eps, theta0): # defining f(θ)\n",
    "    return (1 - eps * np.cos(2 * (theta - theta0)))**(1/2)\n",
    "\n",
    "\n",
    "def dxphi(rtheta, b, eps, gc, gs, theta0): # deflection vector x component\n",
    "    r, theta = rtheta\n",
    "    return b / f(theta, eps, theta0) * (np.cos(theta) - eps * np.cos( theta - 2 * theta0)) \\\n",
    "        + gc * r * np.cos(theta) + gs * r * np.sin(theta)\n",
    "\n",
    "\n",
    "def dyphi(rtheta, b , eps, gc, gs, theta0): #deflection vector y component\n",
    "    r, theta = rtheta\n",
    "    return b / f(theta, eps, theta0) * (np.sin(theta) - eps * np.sin( theta - 2 * theta0)) \\\n",
    "        + gs * r * np.cos(theta) - gc * r * np.sin(theta)\n",
    "\n",
    "\n",
    "def calcsource(params, rtheta): # calculates the source given the ϕ-params and an image position\n",
    "    b, eps, gc, gs, theta0, _, _ = params\n",
    "    r, theta = rtheta\n",
    "    x, y = pol2cart(r, theta)\n",
    "    mu = x - dxphi(rtheta, b, eps, gc, gs, theta0)\n",
    "    nu = y - dyphi(rtheta, b, eps, gc, gs, theta0)\n",
    "    return (mu, nu)\n",
    "\n",
    "    \n",
    "def lnprob(params, rthetasigma): # our χ^2 function\n",
    "    b, eps, gc, gs, theta0, u, v = params\n",
    "    r, theta, sigma = rthetasigma\n",
    "    chi2 = 0\n",
    "    for i in range(3):\n",
    "        mu, nu = calcsource(params, rtheta[i])\n",
    "        chi2 += ((u - mu)**2 + (v - nu)**2) / sigma[i]**2\n",
    "    return chi2"
   ]
  },
  {
   "cell_type": "code",
   "execution_count": null,
   "metadata": {},
   "outputs": [],
   "source": [
    "ndim = 7\n",
    "nwalk = 16\n",
    "nburn = 200\n",
    "nmain = 1000\n",
    "\n",
    "# might be better to use this segment if we have a better idea of what the low and high values might be for each parameter\n",
    "# generate random starting points\n",
    "# p0 = np.zeros((nwalk,ndim))\n",
    "# for iwalk in range(nwalk):\n",
    "#     p0[iwalk,0] = np.random.uniform(low=,high=,)\n",
    "#     p0[iwalk,1] = np.random.uniform(low=,high=)\n",
    "#     p0[iwalk,2] = np.random.uniform(low=,high=)\n",
    "#     p0[iwalk,3] = np.random.uniform(low=,high=)\n",
    "#     p0[iwalk,4] = np.random.uniform(low=,high=)\n",
    "#     p0[iwalk,5] = np.random.uniform(low=,high=)\n",
    "#     p0[iwalk,6] = np.random.uniform(low=,high=)\n",
    "    \n",
    "# pstart = np.zeros(ndim)\n",
    "p0 = np.array(np.random.rand(ndim) for i in range(nwalk)) \n",
    "# p0 = np.array([ pstart+1.0e-4*np.random.normal(size=ndim) for iwalk in range(nwalk) ])\n",
    "\n",
    "\n",
    "sampler = emcee.EnsembleSampler(nwalk,ndim,lnprob) \n",
    "\n",
    "# burn-in run\n",
    "pos,prob,state = sampler.run_mcmc(p0,nburn)\n",
    "\n",
    "sampler.reset()\n",
    "\n",
    "# main run\n",
    "res = sampler.run_mcmc(pos,nmain)\n",
    "samples = sampler.chain.reshape((-1,ndim))"
   ]
  },
  {
   "cell_type": "code",
   "execution_count": null,
   "metadata": {},
   "outputs": [],
   "source": [
    "f = corner.corner(samples,show_titles=True,labels=('p0','p1','p2','p3','p4','p5','p6'))\n",
    "f.show()"
   ]
  }
 ],
 "metadata": {
  "kernelspec": {
   "display_name": "Python 3",
   "language": "python",
   "name": "python3"
  },
  "language_info": {
   "codemirror_mode": {
    "name": "ipython",
    "version": 3
   },
   "file_extension": ".py",
   "mimetype": "text/x-python",
   "name": "python",
   "nbconvert_exporter": "python",
   "pygments_lexer": "ipython3",
   "version": "3.7.6"
  }
 },
 "nbformat": 4,
 "nbformat_minor": 4
}
