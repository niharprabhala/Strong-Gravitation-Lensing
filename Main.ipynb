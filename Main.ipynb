{
 "cells": [
  {
   "cell_type": "code",
   "execution_count": 1,
   "metadata": {
    "ExecuteTime": {
     "end_time": "2020-10-22T20:05:04.432315Z",
     "start_time": "2020-10-22T20:05:00.675868Z"
    }
   },
   "outputs": [],
   "source": [
    "import numpy as np\n",
    "from astropy import units as u\n",
    "from astropy.coordinates import SkyCoord\n",
    "import scipy as sp\n",
    "import matplotlib.pyplot as plt\n",
    "from mpl_toolkits.axes_grid1 import make_axes_locatable\n",
    "import emcee\n",
    "import corner\n",
    "%matplotlib inline"
   ]
  },
  {
   "cell_type": "code",
   "execution_count": 2,
   "metadata": {
    "ExecuteTime": {
     "end_time": "2020-10-22T20:05:04.448299Z",
     "start_time": "2020-10-22T20:05:04.435304Z"
    },
    "cell_style": "center"
   },
   "outputs": [],
   "source": [
    "def cart2pol(x, y):\n",
    "    rho = np.sqrt(x**2 + y**2)\n",
    "    phi = np.arctan2(y, x)\n",
    "    return(rho, phi)\n",
    "\n",
    "def pol2cart(rho, phi):\n",
    "    x = rho * np.cos(phi)\n",
    "    y = rho * np.sin(phi)\n",
    "    return(x, y)"
   ]
  },
  {
   "cell_type": "markdown",
   "metadata": {},
   "source": [
    "Using polar coordinates centered on the lens galaxy, the combined lens potential can be written as\n",
    "\n",
    "$$\\phi (r, \\theta) = b r f(\\theta) + \\frac{r^2}{2} (\\gamma_c \\cos{2 \\theta} + \\gamma_s \\sin{2 \\theta} )$$\n",
    "\n",
    "where\n",
    "\n",
    "$$f(\\theta) = \\left[ 1 - \\epsilon \\cos{2 ( \\theta - \\theta_0)} \\right]^{1/2}$$\n",
    "\n",
    "The deflection vector $\\nabla \\phi$ has cartesian components \n",
    "\n",
    "\\begin{gather}\n",
    "\\nabla_x \\phi = \\frac{b}{f(\\theta)} [\\cos \\theta - \\epsilon \\cos{(\\theta - 2 \\theta_0)}] + \\gamma_c r \\cos \\theta + \\gamma_s r \\sin \\theta \\\\\n",
    "\\nabla_y \\phi = \\frac{b}{f(\\theta)} [\\sin \\theta - \\epsilon \\sin{(\\theta - 2 \\theta_0)}] + \\gamma_s r \\cos \\theta - \\gamma_c r \\sin \\theta\n",
    "\\end{gather}"
   ]
  },
  {
   "cell_type": "markdown",
   "metadata": {},
   "source": [
    "The gravitational lens equation has the form\n",
    "\n",
    "$$\\vec{u} = \\vec{x} - \\nabla \\phi (\\vec{x})$$\n",
    "\n",
    "which is really a set of two equations.\n",
    "\\begin{gather}\n",
    "u = x - \\nabla_x \\phi (\\vec{x}) \\\\\n",
    "v = y - \\nabla_y \\phi (\\vec{x})\n",
    "\\end{gather}\n",
    "We need a penalty function $\\chi^2$ that will determine the parameters $b, \\epsilon, \\gamma_c, \\gamma_s, \\theta_0$ in the lens potential $\\phi$ and the parameters $u,v$, the position of the source. Let $\\vec{x}_i, \\sigma_i, \\, i=0,1,2,3$ be the positions and uncertainties of the four images. Based on Keeton (2010, Gen.Rel.Grav., 42, 2151) we will define our $\\chi^2$ function to be in the source plane. This eliminates the need for solving the lens equation (which is computationally expensive), and is a fine apprixmation given how small our uncertainties are. Let $\\vec{\\mu}_i = (\\mu_i, \\nu_i)$ be the position of the source as calculated from the lens equation using the $i$th image position. Then we can define our penalty function to be\n",
    "$$ \\chi^2 = \\sum_{i=0}^3 \\frac{1}{\\sigma_i^2} \\left( \\vec{u} - \\vec{\\mu}_i \\right)^2$$"
   ]
  },
  {
   "cell_type": "code",
   "execution_count": 3,
   "metadata": {
    "ExecuteTime": {
     "end_time": "2020-10-22T20:05:04.464226Z",
     "start_time": "2020-10-22T20:05:04.451261Z"
    },
    "code_folding": []
   },
   "outputs": [],
   "source": [
    "def f(theta, eps, theta0): # defining f(θ)\n",
    "    return (1 - eps * np.cos(2 * (theta - theta0)))**(1/2)\n",
    "\n",
    "def phi(rtheta, b, eps, gc, gs, theta0): # ϕ\n",
    "    r, theta = rtheta\n",
    "    return b * r * f(theta, eps, theta0) + r**2 / 2 * ( gc * np.cos(2*theta) + gs * np.sin(2*theta))\n",
    "\n",
    "def dxphi(rtheta, b, eps, gc, gs, theta0): # deflection vector x component\n",
    "    r, theta = rtheta\n",
    "    return b / f(theta, eps, theta0) * (np.cos(theta) - eps * np.cos( theta - 2 * theta0)) \\\n",
    "        + gc * r * np.cos(theta) + gs * r * np.sin(theta)\n",
    "\n",
    "\n",
    "def dyphi(rtheta, b , eps, gc, gs, theta0): #deflection vector y component\n",
    "    r, theta = rtheta\n",
    "    return b / f(theta, eps, theta0) * (np.sin(theta) - eps * np.sin( theta - 2 * theta0)) \\\n",
    "        + gs * r * np.cos(theta) - gc * r * np.sin(theta)\n",
    "\n",
    "\n",
    "def calcsource(params, rtheta): # calculates the source given the ϕ-params and an image position\n",
    "    b, eps, gc, gs, theta0, _, _ = params\n",
    "    r, theta = rtheta\n",
    "    x, y = pol2cart(r, theta)\n",
    "    mu = x - dxphi(rtheta, b, eps, gc, gs, theta0)\n",
    "    nu = y - dyphi(rtheta, b, eps, gc, gs, theta0)\n",
    "    return (mu, nu)\n",
    "\n",
    "    \n",
    "def lnprob(params, rthetasigma): # our χ^2 function\n",
    "    b, eps, gc, gs, theta0, u, v = params\n",
    "    r, theta, sigma = rthetasigma\n",
    "    if b<0 or not 0<=eps<1 or not 0<=theta0<2*np.pi: return -np.inf\n",
    "    chi2 = 0\n",
    "    for i in range(len(r)):\n",
    "        mu, nu = calcsource(params, (r[i], theta[i]))\n",
    "        chi2 += ((u - mu)**2 + (v - nu)**2) / sigma[i]**2\n",
    "    return -chi2 / 2 "
   ]
  },
  {
   "cell_type": "code",
   "execution_count": 4,
   "metadata": {
    "ExecuteTime": {
     "end_time": "2020-10-22T20:05:04.481180Z",
     "start_time": "2020-10-22T20:05:04.466221Z"
    }
   },
   "outputs": [],
   "source": [
    "def mcmc_model(data, nwalk=20, nburn=100000, nmain=200000, lensnum=None):\n",
    "    ndim = 7\n",
    "    \n",
    "    # randomly generating starting points\n",
    "    p0 = np.zeros((nwalk,ndim))\n",
    "    for iwalk in range(nwalk):\n",
    "        p0[iwalk,0] = np.random.uniform()\n",
    "        p0[iwalk,1] = np.random.uniform()\n",
    "        p0[iwalk,2] = np.random.uniform()\n",
    "        p0[iwalk,3] = np.random.uniform()\n",
    "        p0[iwalk,4] = np.random.uniform(low=0, high=2*np.pi)\n",
    "        p0[iwalk,5] = np.random.uniform()\n",
    "        p0[iwalk,6] = np.random.uniform()\n",
    "\n",
    "    sampler = emcee.EnsembleSampler(nwalk,ndim,lnprob, args=(data,)) \n",
    "\n",
    "    # burn-in run\n",
    "    pos,prob,state = sampler.run_mcmc(p0,nburn)\n",
    "    sampler.reset()\n",
    "\n",
    "    # main run\n",
    "    res = sampler.run_mcmc(pos,nmain)\n",
    "    samples = sampler.chain.reshape((-1,ndim))\n",
    "    \n",
    "    # creating the corner plot\n",
    "    fig = corner.corner(samples,show_titles=True,labels=('b','ϵ','γc','γs','θ0','u','v'), title_fmt='.5f')\n",
    "    params = samples[-1,:]\n",
    "    fig.suptitle('Lens {0}; $\\chi^2 = {{{1:.3f}}}$'.format(lensnum, lnprob(params, data)), fontsize=22)\n",
    "    \n",
    "    return params, fig"
   ]
  },
  {
   "cell_type": "code",
   "execution_count": 5,
   "metadata": {
    "ExecuteTime": {
     "end_time": "2020-10-22T20:05:04.496140Z",
     "start_time": "2020-10-22T20:05:04.484172Z"
    }
   },
   "outputs": [],
   "source": [
    "def plot_chi2(x, y, b, eps, gc, gs, theta0, u, v): # the chi^2 function for the contour plot\n",
    "    rtheta = cart2pol(x,y)\n",
    "    return (x - dxphi(rtheta, b, eps, gc, gs, theta0) - u)**2 + (y - dyphi(rtheta, b, eps, gc, gs, theta0) - v)**2\n",
    "\n",
    "def plot_model(data, params, sqrlim=None, lensnum=None):\n",
    "    # handling inputs\n",
    "    data = data[0:2].T\n",
    "    xyimg = np.array(pol2cart(data[:,0], data[:,1]))\n",
    "    b, eps, gc, gs, theta0, u, v = params\n",
    "    \n",
    "    # creating and evaluating points for the contour plot\n",
    "    if sqrlim==None:\n",
    "        sqrlim = max(xyimg.flatten(), key=lambda x:abs(x)) * 1.3\n",
    "    levels = np.arange(-8, 0, 0.5)\n",
    "    x = np.linspace(-sqrlim, sqrlim, 500)\n",
    "    y = np.linspace(-sqrlim, sqrlim, 500)\n",
    "    xx,yy = np.meshgrid(x,y)\n",
    "    zz = plot_chi2(xx, yy, b, eps, gc, gs, theta0, u, v)\n",
    "\n",
    "    # plotting the contour plot and the images on top of it\n",
    "    fig, ax = plt.subplots(figsize=(14,14))\n",
    "    c = ax.contour(xx, yy, np.log10(zz), levels=levels, zorder=0)\n",
    "    divider = make_axes_locatable(ax)\n",
    "    cax = divider.append_axes(\"right\", size=\"5%\", pad=0.1)\n",
    "    cb = plt.colorbar(c, cax=cax)\n",
    "    ax.set_aspect('equal', adjustable='box')\n",
    "    imgs = ax.scatter(xyimg[0], xyimg[1], color='k', marker=(5,1,0), s=300, zorder=1, label='Gilman et al. 2019')\n",
    "    \n",
    "    # beautification\n",
    "    ax.legend(loc='upper right', fontsize=16)\n",
    "    ax.set_xlabel('$x$', fontsize=22)\n",
    "    ax.set_ylabel('$y$', fontsize=22)\n",
    "    cb.set_label(r'$\\log ( \\, \\chi^2 = (x - \\Delta_x \\phi - u)^2 + (y - \\Delta_y \\phi - v)^2 \\, )$', fontsize=18)\n",
    "    ax.set_title('Model and Observed Images; Lens {}'.format(lensnum), fontsize=22)\n",
    "    \n",
    "    return fig"
   ]
  },
  {
   "cell_type": "markdown",
   "metadata": {
    "ExecuteTime": {
     "end_time": "2020-10-15T17:02:40.307107Z",
     "start_time": "2020-10-15T17:02:40.293064Z"
    }
   },
   "source": [
    "Here we import the data from the file lensData.txt,  in which the data is stored as described\n",
    "\n",
    "For each lens there should be 11 numbers \n",
    "First we have the uncertainty, then we have the dRA and dDec for the lensing galaxy\n",
    "Then we have the dRA and dDec for each image (4 images each)\n",
    "If we have 3 lenses, we should have 33 numbers in our chain, and so on..."
   ]
  },
  {
   "cell_type": "code",
   "execution_count": 6,
   "metadata": {
    "ExecuteTime": {
     "end_time": "2020-10-22T20:05:04.526855Z",
     "start_time": "2020-10-22T20:05:04.499133Z"
    },
    "scrolled": false
   },
   "outputs": [],
   "source": [
    "file1 = open('lensData.txt','r')\n",
    "Lines = file1.read().replace('\\n',' ');\n",
    "\n",
    "\n",
    "a= Lines.split(\" \")\n",
    "\n",
    "numLenses = 8\n",
    "numImages = 4\n",
    "oldData = np.zeros((numLenses,3,numImages))\n",
    "newData = np.zeros((numLenses,3,numImages))\n",
    "\n",
    "i=0\n",
    "j=0\n",
    "k=0\n",
    "count=0;\n",
    "while (i< numLenses):\n",
    "    uncert= a[count]\n",
    "    count=count+1;\n",
    "    xChange=a[count]\n",
    "    count=count+1\n",
    "    yChange=a[count]\n",
    "    count=count+1\n",
    "    while (j< numImages):\n",
    "        oldData[i][0][j] = float(a[count]) - float(xChange)\n",
    "        count=count+1;\n",
    "        oldData[i][1][j] = float(a[count]) - float(yChange)\n",
    "        count=count+1;\n",
    "        oldData[i][2][j]= float(uncert);\n",
    "        j=j+1;\n",
    "    i=i+1;\n",
    "    j=0\n",
    "\n",
    "    \n",
    "i=0\n",
    "j=0\n",
    "k=0\n",
    "\n",
    "while (i<numLenses):\n",
    "    while (j<numImages):\n",
    "        newData[i][2][j] = oldData[i][2][j]\n",
    "        newData[i][0][j],newData[i][1][j] = cart2pol(oldData[i][0][j], oldData[i][1][j])\n",
    "        j=j+1;\n",
    "    i=i+1;\n",
    "    j=0\n",
    "    \n",
    "#We now have our data stored as polar coordinates.\n",
    "#In our array, we have a 3D array of length [8(number of lenses)][3(numer of paramters)][4(number of images)]\n",
    "#In which we store the values for r and theta for each image, and then the uncertainty of the image"
   ]
  },
  {
   "cell_type": "code",
   "execution_count": null,
   "metadata": {
    "ExecuteTime": {
     "start_time": "2020-10-22T20:05:00.688Z"
    },
    "scrolled": false
   },
   "outputs": [],
   "source": [
    "for i in range(8)[-1:]:\n",
    "    try: params, corfig = mcmc_model(newData[i], lensnum=i)\n",
    "    except: params, corfig = mcmc_model(newData[i], lensnum=i)\n",
    "    plt.savefig('plots/corner_{}.png'.format(i), format='png', dpi=300)\n",
    "    plt.show()\n",
    "    \n",
    "    contfig = plot_model(newData[i], params, lensnum=i)\n",
    "    plt.savefig('plots/contour_{}.png'.format(i), format='png', dpi=300)\n",
    "    plt.show()"
   ]
  }
 ],
 "metadata": {
  "kernelspec": {
   "display_name": "Python 3",
   "language": "python",
   "name": "python3"
  },
  "language_info": {
   "codemirror_mode": {
    "name": "ipython",
    "version": 3
   },
   "file_extension": ".py",
   "mimetype": "text/x-python",
   "name": "python",
   "nbconvert_exporter": "python",
   "pygments_lexer": "ipython3",
   "version": "3.7.9"
  },
  "notify_time": "30"
 },
 "nbformat": 4,
 "nbformat_minor": 4
}
